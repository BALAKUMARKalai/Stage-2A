{
 "cells": [
  {
   "cell_type": "code",
   "execution_count": 43,
   "id": "9a816a4c",
   "metadata": {},
   "outputs": [],
   "source": [
    "import pandas as pd\n",
    "import matplotlib.pyplot as plt\n",
    "import numpy as np\n",
    "import torch\n",
    "from sklearn.tree import DecisionTreeClassifier, export_text\n",
    "from sklearn.model_selection import train_test_split\n",
    "from sklearn.metrics import accuracy_score, classification_report\n",
    "from sklearn.preprocessing import StandardScaler\n",
    "from sklearn.linear_model import LogisticRegression\n",
    "import seaborn as sns"
   ]
  },
  {
   "cell_type": "code",
   "execution_count": null,
   "id": "d5b104cc",
   "metadata": {},
   "outputs": [
    {
     "data": {
      "text/html": [
       "<div>\n",
       "<style scoped>\n",
       "    .dataframe tbody tr th:only-of-type {\n",
       "        vertical-align: middle;\n",
       "    }\n",
       "\n",
       "    .dataframe tbody tr th {\n",
       "        vertical-align: top;\n",
       "    }\n",
       "\n",
       "    .dataframe thead th {\n",
       "        text-align: right;\n",
       "    }\n",
       "</style>\n",
       "<table border=\"1\" class=\"dataframe\">\n",
       "  <thead>\n",
       "    <tr style=\"text-align: right;\">\n",
       "      <th></th>\n",
       "      <th>Context</th>\n",
       "      <th>F1_Central</th>\n",
       "      <th>F1_Mean</th>\n",
       "      <th>F1_F1max</th>\n",
       "      <th>F1_Ampmax</th>\n",
       "      <th>F2_Central</th>\n",
       "      <th>F2_Mean</th>\n",
       "      <th>F2_F1max</th>\n",
       "      <th>F2_Ampmax</th>\n",
       "      <th>Label</th>\n",
       "    </tr>\n",
       "  </thead>\n",
       "  <tbody>\n",
       "    <tr>\n",
       "      <th>0</th>\n",
       "      <td>kced</td>\n",
       "      <td>482.0</td>\n",
       "      <td>492.000000</td>\n",
       "      <td>508.0</td>\n",
       "      <td>482.0</td>\n",
       "      <td>1875.0</td>\n",
       "      <td>1896.692308</td>\n",
       "      <td>1942.0</td>\n",
       "      <td>1875.0</td>\n",
       "      <td>E</td>\n",
       "    </tr>\n",
       "    <tr>\n",
       "      <th>1</th>\n",
       "      <td>kched</td>\n",
       "      <td>508.0</td>\n",
       "      <td>486.777778</td>\n",
       "      <td>508.0</td>\n",
       "      <td>499.0</td>\n",
       "      <td>1827.0</td>\n",
       "      <td>1829.166667</td>\n",
       "      <td>1962.0</td>\n",
       "      <td>1875.0</td>\n",
       "      <td>E</td>\n",
       "    </tr>\n",
       "    <tr>\n",
       "      <th>2</th>\n",
       "      <td>kbeb</td>\n",
       "      <td>499.0</td>\n",
       "      <td>504.647059</td>\n",
       "      <td>521.0</td>\n",
       "      <td>499.0</td>\n",
       "      <td>1671.0</td>\n",
       "      <td>1630.588235</td>\n",
       "      <td>1680.0</td>\n",
       "      <td>1680.0</td>\n",
       "      <td>E</td>\n",
       "    </tr>\n",
       "    <tr>\n",
       "      <th>3</th>\n",
       "      <td>kbed</td>\n",
       "      <td>499.0</td>\n",
       "      <td>496.421053</td>\n",
       "      <td>508.0</td>\n",
       "      <td>508.0</td>\n",
       "      <td>1747.0</td>\n",
       "      <td>1708.789474</td>\n",
       "      <td>1751.0</td>\n",
       "      <td>1732.0</td>\n",
       "      <td>E</td>\n",
       "    </tr>\n",
       "    <tr>\n",
       "      <th>4</th>\n",
       "      <td>kbeg</td>\n",
       "      <td>508.0</td>\n",
       "      <td>494.600000</td>\n",
       "      <td>508.0</td>\n",
       "      <td>508.0</td>\n",
       "      <td>1632.0</td>\n",
       "      <td>1669.333333</td>\n",
       "      <td>1845.0</td>\n",
       "      <td>1602.0</td>\n",
       "      <td>E</td>\n",
       "    </tr>\n",
       "  </tbody>\n",
       "</table>\n",
       "</div>"
      ],
      "text/plain": [
       "  Context  F1_Central     F1_Mean  F1_F1max  F1_Ampmax  F2_Central  \\\n",
       "0    kced       482.0  492.000000     508.0      482.0      1875.0   \n",
       "1   kched       508.0  486.777778     508.0      499.0      1827.0   \n",
       "2    kbeb       499.0  504.647059     521.0      499.0      1671.0   \n",
       "3    kbed       499.0  496.421053     508.0      508.0      1747.0   \n",
       "4    kbeg       508.0  494.600000     508.0      508.0      1632.0   \n",
       "\n",
       "       F2_Mean  F2_F1max  F2_Ampmax Label  \n",
       "0  1896.692308    1942.0     1875.0     E  \n",
       "1  1829.166667    1962.0     1875.0     E  \n",
       "2  1630.588235    1680.0     1680.0     E  \n",
       "3  1708.789474    1751.0     1732.0     E  \n",
       "4  1669.333333    1845.0     1602.0     E  "
      ]
     },
     "execution_count": 2,
     "metadata": {},
     "output_type": "execute_result"
    }
   ],
   "source": [
    "\n",
    "df = pd.read_csv(\"dataset.csv\", sep=\";\").replace(\",\", \".\", regex=True)\n",
    "df = df.astype({col: \"float\" for col in df.columns[1:-1]})  \n",
    "df.head()"
   ]
  },
  {
   "cell_type": "code",
   "execution_count": 40,
   "id": "c17d4fae",
   "metadata": {},
   "outputs": [
    {
     "data": {
      "text/html": [
       "<div>\n",
       "<style scoped>\n",
       "    .dataframe tbody tr th:only-of-type {\n",
       "        vertical-align: middle;\n",
       "    }\n",
       "\n",
       "    .dataframe tbody tr th {\n",
       "        vertical-align: top;\n",
       "    }\n",
       "\n",
       "    .dataframe thead th {\n",
       "        text-align: right;\n",
       "    }\n",
       "</style>\n",
       "<table border=\"1\" class=\"dataframe\">\n",
       "  <thead>\n",
       "    <tr style=\"text-align: right;\">\n",
       "      <th></th>\n",
       "      <th>F1_Central</th>\n",
       "      <th>F1_Mean</th>\n",
       "      <th>F1_F1max</th>\n",
       "      <th>F1_Ampmax</th>\n",
       "      <th>F2_Central</th>\n",
       "      <th>F2_Mean</th>\n",
       "      <th>F2_F1max</th>\n",
       "      <th>F2_Ampmax</th>\n",
       "      <th>Label</th>\n",
       "    </tr>\n",
       "  </thead>\n",
       "  <tbody>\n",
       "    <tr>\n",
       "      <th>0</th>\n",
       "      <td>482.0</td>\n",
       "      <td>492.0</td>\n",
       "      <td>508.0</td>\n",
       "      <td>482.0</td>\n",
       "      <td>1875.0</td>\n",
       "      <td>1896.692308</td>\n",
       "      <td>1942.0</td>\n",
       "      <td>1875.0</td>\n",
       "      <td>E</td>\n",
       "    </tr>\n",
       "    <tr>\n",
       "      <th>1</th>\n",
       "      <td>508.0</td>\n",
       "      <td>486.777778</td>\n",
       "      <td>508.0</td>\n",
       "      <td>499.0</td>\n",
       "      <td>1827.0</td>\n",
       "      <td>1829.166667</td>\n",
       "      <td>1962.0</td>\n",
       "      <td>1875.0</td>\n",
       "      <td>E</td>\n",
       "    </tr>\n",
       "    <tr>\n",
       "      <th>2</th>\n",
       "      <td>499.0</td>\n",
       "      <td>504.647059</td>\n",
       "      <td>521.0</td>\n",
       "      <td>499.0</td>\n",
       "      <td>1671.0</td>\n",
       "      <td>1630.588235</td>\n",
       "      <td>1680.0</td>\n",
       "      <td>1680.0</td>\n",
       "      <td>E</td>\n",
       "    </tr>\n",
       "    <tr>\n",
       "      <th>3</th>\n",
       "      <td>499.0</td>\n",
       "      <td>496.421053</td>\n",
       "      <td>508.0</td>\n",
       "      <td>508.0</td>\n",
       "      <td>1747.0</td>\n",
       "      <td>1708.789474</td>\n",
       "      <td>1751.0</td>\n",
       "      <td>1732.0</td>\n",
       "      <td>E</td>\n",
       "    </tr>\n",
       "    <tr>\n",
       "      <th>4</th>\n",
       "      <td>508.0</td>\n",
       "      <td>494.6</td>\n",
       "      <td>508.0</td>\n",
       "      <td>508.0</td>\n",
       "      <td>1632.0</td>\n",
       "      <td>1669.333333</td>\n",
       "      <td>1845.0</td>\n",
       "      <td>1602.0</td>\n",
       "      <td>E</td>\n",
       "    </tr>\n",
       "  </tbody>\n",
       "</table>\n",
       "</div>"
      ],
      "text/plain": [
       "  F1_Central     F1_Mean F1_F1max F1_Ampmax F2_Central      F2_Mean F2_F1max  \\\n",
       "0      482.0       492.0    508.0     482.0     1875.0  1896.692308   1942.0   \n",
       "1      508.0  486.777778    508.0     499.0     1827.0  1829.166667   1962.0   \n",
       "2      499.0  504.647059    521.0     499.0     1671.0  1630.588235   1680.0   \n",
       "3      499.0  496.421053    508.0     508.0     1747.0  1708.789474   1751.0   \n",
       "4      508.0       494.6    508.0     508.0     1632.0  1669.333333   1845.0   \n",
       "\n",
       "  F2_Ampmax Label  \n",
       "0    1875.0     E  \n",
       "1    1875.0     E  \n",
       "2    1680.0     E  \n",
       "3    1732.0     E  \n",
       "4    1602.0     E  "
      ]
     },
     "execution_count": 40,
     "metadata": {},
     "output_type": "execute_result"
    }
   ],
   "source": [
    "df = df.drop(columns= 'Context')\n",
    "df.head()\n"
   ]
  },
  {
   "cell_type": "code",
   "execution_count": 41,
   "id": "722af203",
   "metadata": {},
   "outputs": [
    {
     "data": {
      "image/png": "[encoded data removed]",
      "text/plain": [
       "<Figure size 600x400 with 2 Axes>"
      ]
     },
     "metadata": {},
     "output_type": "display_data"
    }
   ],
   "source": [
    "plt.figure(figsize=(6,4))\n",
    "sns.heatmap((df.drop(columns= 'Label')).corr(), annot = True, cmap = 'Blues')\n",
    "plt.title('Feature_correlation')\n",
    "plt.show()"
   ]
  },
  {
   "cell_type": "code",
   "execution_count": 4,
   "id": "7f8d72ca",
   "metadata": {},
   "outputs": [
    {
     "name": "stdout",
     "output_type": "stream",
     "text": [
      "|--- F1_Mean <= 460.01\n",
      "|   |--- class: I\n",
      "|--- F1_Mean >  460.01\n",
      "|   |--- class: E\n",
      "\n"
     ]
    }
   ],
   "source": [
    "X = df.iloc[:,1:-1]\n",
    "y = df.iloc[:,-1]\n",
    "feat_names = df.columns[1:-1]\n",
    "X_train, X_test, y_train, y_test = train_test_split(X,y, test_size = 0.33, shuffle = True, random_state = 42)\n",
    "model_dt = DecisionTreeClassifier(random_state = 42, max_depth = 4)\n",
    "model_dt.fit(X_train, y_train) \n",
    "rules = export_text(model_dt, feature_names=feat_names)\n",
    "print(rules)\n",
    "\n"
   ]
  },
  {
   "cell_type": "code",
   "execution_count": null,
   "id": "1290a632",
   "metadata": {},
   "outputs": [
    {
     "name": "stdout",
     "output_type": "stream",
     "text": [
      "The accuracy score is 0.93\n"
     ]
    },
    {
     "name": "stderr",
     "output_type": "stream",
     "text": [
      "C:\\Users\\kalai\\AppData\\Roaming\\Python\\Python312\\site-packages\\sklearn\\neural_network\\_multilayer_perceptron.py:691: ConvergenceWarning: Stochastic Optimizer: Maximum iterations (200) reached and the optimization hasn't converged yet.\n",
      "  warnings.warn(\n"
     ]
    }
   ],
   "source": [
    "from sklearn.neural_network import MLPClassifier\n",
    "import numpy as np\n",
    "y = np.where(df['Label'] == 'I', 1, 0)\n",
    "scaler = StandardScaler()\n",
    "X_train_scaled = scaler.fit_transform(X_train)\n",
    "X_test_scaled = scaler.transform(X_test)\n",
    "\n",
    "model_MLP = MLPClassifier(hidden_layer_sizes = (8,))\n",
    "model_MLP.fit(X_train_scaled, y_train)\n",
    "y_pred_MLP = model_MLP.predict(X_test_scaled)\n",
    "acc_score = accuracy_score(y_test, y_pred_MLP)\n",
    "print(f'The accuracy score is {acc_score:.2f}')\n"
   ]
  },
  {
   "cell_type": "code",
   "execution_count": 49,
   "id": "9c406c25",
   "metadata": {},
   "outputs": [
    {
     "data": {
      "text/plain": [
       "{'E': {'precision': 0.9444444444444444,\n",
       "  'recall': 0.9272727272727272,\n",
       "  'f1-score': 0.9357798165137615,\n",
       "  'support': 55.0},\n",
       " 'I': {'precision': 0.9230769230769231,\n",
       "  'recall': 0.9411764705882353,\n",
       "  'f1-score': 0.9320388349514563,\n",
       "  'support': 51.0},\n",
       " 'accuracy': 0.9339622641509434,\n",
       " 'macro avg': {'precision': 0.9337606837606838,\n",
       "  'recall': 0.9342245989304813,\n",
       "  'f1-score': 0.933909325732609,\n",
       "  'support': 106.0},\n",
       " 'weighted avg': {'precision': 0.934163844541203,\n",
       "  'recall': 0.9339622641509434,\n",
       "  'f1-score': 0.9339799102903883,\n",
       "  'support': 106.0}}"
      ]
     },
     "execution_count": 49,
     "metadata": {},
     "output_type": "execute_result"
    }
   ],
   "source": [
    "classification_report(y_test, y_pred_MLP, output_dict= True)\n"
   ]
  },
  {
   "cell_type": "code",
   "execution_count": null,
   "id": "c43dcdd2",
   "metadata": {},
   "outputs": [],
   "source": [
    "import shap\n",
    "s"
   ]
  },
  {
   "cell_type": "code",
   "execution_count": 35,
   "id": "37efc707",
   "metadata": {},
   "outputs": [
    {
     "name": "stdout",
     "output_type": "stream",
     "text": [
      "--- Central ---\n",
      "MLP Accuracy moyenne     : 0.994\n",
      "Logistic Regression Acc. : 0.997\n",
      "\n",
      "--- Mean ---\n",
      "MLP Accuracy moyenne     : 0.994\n",
      "Logistic Regression Acc. : 0.991\n",
      "\n",
      "--- F1max ---\n",
      "MLP Accuracy moyenne     : 0.981\n",
      "Logistic Regression Acc. : 0.981\n",
      "\n",
      "--- Ampmax ---\n",
      "MLP Accuracy moyenne     : 0.931\n",
      "Logistic Regression Acc. : 0.931\n",
      "\n"
     ]
    }
   ],
   "source": [
    "\n",
    "from sklearn.model_selection import cross_val_score\n",
    "\n",
    "strategies = {\n",
    "    \"Central\":   [\"F1_Central\", \"F2_Central\"],\n",
    "    \"Mean\":      [\"F1_Mean\", \"F2_Mean\"],\n",
    "    \"F1max\":     [\"F1_F1max\", \"F2_F1max\"],\n",
    "    \"Ampmax\":    [\"F1_Ampmax\", \"F2_Ampmax\"]\n",
    "}\n",
    "\n",
    "mlp_params = dict(hidden_layer_sizes=(8,), max_iter=2000, random_state=42)\n",
    "logreg_params = dict(max_iter=2000, random_state=42)\n",
    "\n",
    "for strat_name, cols in strategies.items():\n",
    "    X = df[cols].values\n",
    "\n",
    "    # Normalisation\n",
    "    scaler = StandardScaler()\n",
    "    X_scaled = scaler.fit_transform(X)\n",
    "\n",
    "  \n",
    "    mlp = MLPClassifier(**mlp_params)\n",
    "    logreg = LogisticRegression(**logreg_params)\n",
    "\n",
    "    # Validation croisée (5 folds)\n",
    "    acc_mlp = cross_val_score(mlp, X_scaled, y, cv=5, scoring='accuracy').mean()\n",
    "    acc_log = cross_val_score(logreg, X_scaled, y, cv=5, scoring='accuracy').mean()\n",
    "\n",
    "    print(f\"--- {strat_name} ---\")\n",
    "    print(f\"MLP Accuracy moyenne     : {acc_mlp:.3f}\")\n",
    "    print(f\"Logistic Regression Acc. : {acc_log:.3f}\")\n",
    "    print()\n"
   ]
  }
 ],
 "metadata": {
  "kernelspec": {
   "display_name": "base",
   "language": "python",
   "name": "python3"
  },
  "language_info": {
   "codemirror_mode": {
    "name": "ipython",
    "version": 3
   },
   "file_extension": ".py",
   "mimetype": "text/x-python",
   "name": "python",
   "nbconvert_exporter": "python",
   "pygments_lexer": "ipython3",
   "version": "3.12.4"
  }
 },
 "nbformat": 4,
 "nbformat_minor": 5
}
